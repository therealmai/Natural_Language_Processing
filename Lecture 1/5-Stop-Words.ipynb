{
 "cells": [
  {
   "cell_type": "markdown",
   "metadata": {},
   "source": [
    "# Stop Words\n",
    "Words like \"a\" and \"the\" appear so frequently that they don't require tagging as thoroughly as nouns, verbs and modifiers. We call these *stop words*, and they can be filtered from the text to be processed. spaCy holds a built-in list of some 305 English stop words."
   ]
  },
  {
   "cell_type": "code",
   "execution_count": 1,
   "metadata": {},
   "outputs": [],
   "source": [
    "# Perform standard imports:\n",
    "import spacy\n",
    "nlp = spacy.load('en_core_web_sm')"
   ]
  },
  {
   "cell_type": "code",
   "execution_count": 2,
   "metadata": {},
   "outputs": [
    {
     "name": "stdout",
     "output_type": "stream",
     "text": [
      "{'she', 'have', 'everyone', 'him', 'formerly', 'what', 'might', '‘s', 'never', 'n‘t', 'per', 'enough', 'behind', 'were', 'its', 'third', 'afterwards', 'part', 'eight', '‘d', 'make', 'every', 'the', 'to', 'off', 'thereupon', 'on', 'against', 'keep', 'am', 'seem', 'me', 'except', \"n't\", 'his', 'across', 'anyone', 'such', 'their', 'nobody', 'whence', 'i', 'rather', 'whither', 'eleven', 'it', 'twenty', 'will', 'sixty', 'various', 'hence', '’m', 'her', 'empty', \"'m\", 'below', 'full', 'everywhere', 'upon', 'while', 'quite', 'himself', 'must', 'several', 'should', 'so', 'whereupon', 'please', 'yet', 'hereupon', 'because', 'further', 'since', 'nowhere', 'less', 'ca', 'ten', 'other', 'hereafter', 'first', 'an', 'more', 'top', 'also', '’ll', 'mine', 'he', 'whether', 'these', 'no', 'would', \"'re\", 'doing', 'this', 'yours', 'that', 'via', 'anyway', 'n’t', 'each', 'once', 'latterly', 'six', 'former', 'yourselves', 'hundred', 'side', 'then', 'none', 'same', 'besides', 'show', 'herself', 'beyond', 'there', 'bottom', 'why', 'has', 'my', 'above', 'became', '’d', 'and', 'therein', 'just', 'until', 'fifteen', 'when', 'yourself', 'neither', '’ve', 'beforehand', 'without', '‘ll', 'down', 'only', 'or', 'seemed', '‘re', 'forty', 'least', 'which', 'than', 'already', 'twelve', 'go', 'amongst', 'thereafter', 'can', 'nor', 'under', 'into', 'made', 'very', 'amount', 'anything', 'was', 'been', 'wherein', 'where', 'through', 'four', 'many', 'does', 'of', 'whose', 'elsewhere', 'nothing', 'did', 'regarding', 'although', 'our', 'much', 'again', 'those', 'could', 'become', 'few', 'thus', 'is', 'otherwise', 'in', 'whole', 'front', 'say', 'at', 'do', 'are', 'a', 'nevertheless', 'last', 'be', 'we', 'move', 'namely', 'up', 'after', 'therefore', 'herein', 'still', 'onto', 'three', 'two', 'before', 'unless', 'mostly', 'here', \"'ve\", 'between', 'among', 'becomes', 'even', 'myself', 'next', 'thence', '’re', 'now', 'they', '‘ve', 'noone', 'around', 'some', 'someone', 'though', 'nine', 'anyhow', \"'ll\", 'towards', 'them', 'however', 'whenever', 'another', 'everything', 'sometimes', 'within', 'one', 'somewhere', 'any', 'often', 'who', 'used', 'alone', 'give', 'out', 'take', 'beside', 'fifty', 'thereby', 'you', 'due', 'whereby', 'with', 'themselves', 'how', 'back', \"'s\", 'most', 'toward', 'both', 'something', 'sometime', 'almost', 'somehow', 'put', 'get', 'if', 'see', 'ourselves', \"'d\", 'either', 'but', 'all', 'hers', 'five', 'wherever', 'own', 'really', 'during', 'too', 'throughout', 'ever', 'being', 'using', 'as', 'thru', 'becoming', 'whoever', 'over', 'always', 'whereafter', 'us', 'itself', 'together', 'perhaps', 'anywhere', 'whom', 'your', 'else', 'name', 'from', '‘m', 'along', 'meanwhile', 'seems', 'well', 'latter', 'whereas', 'done', '’s', 'call', 'whatever', 'indeed', 'seeming', 'for', 'moreover', 'others', 'about', 'not', 're', 'serious', 'by', 'hereby', 'had', 'may', 'ours', 'cannot'}\n"
     ]
    }
   ],
   "source": [
    "# Print the set of spaCy's default stop words (remember that sets are unordered):\n",
    "print(nlp.Defaults.stop_words)"
   ]
  },
  {
   "cell_type": "code",
   "execution_count": 3,
   "metadata": {},
   "outputs": [
    {
     "data": {
      "text/plain": [
       "326"
      ]
     },
     "execution_count": 3,
     "metadata": {},
     "output_type": "execute_result"
    }
   ],
   "source": [
    "len(nlp.Defaults.stop_words)"
   ]
  },
  {
   "cell_type": "markdown",
   "metadata": {},
   "source": [
    "## To see if a word is a stop word"
   ]
  },
  {
   "cell_type": "code",
   "execution_count": 4,
   "metadata": {},
   "outputs": [
    {
     "data": {
      "text/plain": [
       "True"
      ]
     },
     "execution_count": 4,
     "metadata": {},
     "output_type": "execute_result"
    }
   ],
   "source": [
    "nlp.vocab['myself'].is_stop"
   ]
  },
  {
   "cell_type": "code",
   "execution_count": 5,
   "metadata": {},
   "outputs": [
    {
     "data": {
      "text/plain": [
       "False"
      ]
     },
     "execution_count": 5,
     "metadata": {},
     "output_type": "execute_result"
    }
   ],
   "source": [
    "nlp.vocab['mystery'].is_stop"
   ]
  },
  {
   "cell_type": "markdown",
   "metadata": {},
   "source": [
    "## To add a stop word\n",
    "There may be times when you wish to add a stop word to the default set. Perhaps you decide that `'btw'` (common shorthand for \"by the way\") should be considered a stop word."
   ]
  },
  {
   "cell_type": "code",
   "execution_count": 6,
   "metadata": {},
   "outputs": [],
   "source": [
    "# Add the word to the set of stop words. Use lowercase!\n",
    "nlp.Defaults.stop_words.add('btw')\n",
    "\n",
    "# Set the stop_word tag on the lexeme\n",
    "nlp.vocab['btw'].is_stop = True"
   ]
  },
  {
   "cell_type": "code",
   "execution_count": 7,
   "metadata": {},
   "outputs": [
    {
     "data": {
      "text/plain": [
       "327"
      ]
     },
     "execution_count": 7,
     "metadata": {},
     "output_type": "execute_result"
    }
   ],
   "source": [
    "len(nlp.Defaults.stop_words)"
   ]
  },
  {
   "cell_type": "code",
   "execution_count": 8,
   "metadata": {},
   "outputs": [
    {
     "data": {
      "text/plain": [
       "True"
      ]
     },
     "execution_count": 8,
     "metadata": {},
     "output_type": "execute_result"
    }
   ],
   "source": [
    "nlp.vocab['btw'].is_stop"
   ]
  },
  {
   "cell_type": "markdown",
   "metadata": {},
   "source": [
    "<font color=green>When adding stop words, always use lowercase. Lexemes are converted to lowercase before being added to **vocab**.</font>"
   ]
  },
  {
   "cell_type": "markdown",
   "metadata": {},
   "source": [
    "## To remove a stop word\n",
    "Alternatively, you may decide that `'beyond'` should not be considered a stop word."
   ]
  },
  {
   "cell_type": "code",
   "execution_count": 9,
   "metadata": {},
   "outputs": [],
   "source": [
    "# Remove the word from the set of stop words\n",
    "nlp.Defaults.stop_words.remove('beyond')\n",
    "\n",
    "# Remove the stop_word tag from the lexeme\n",
    "nlp.vocab['beyond'].is_stop = False"
   ]
  },
  {
   "cell_type": "code",
   "execution_count": 10,
   "metadata": {},
   "outputs": [
    {
     "data": {
      "text/plain": [
       "326"
      ]
     },
     "execution_count": 10,
     "metadata": {},
     "output_type": "execute_result"
    }
   ],
   "source": [
    "len(nlp.Defaults.stop_words)"
   ]
  },
  {
   "cell_type": "code",
   "execution_count": 11,
   "metadata": {},
   "outputs": [
    {
     "data": {
      "text/plain": [
       "False"
      ]
     },
     "execution_count": 11,
     "metadata": {},
     "output_type": "execute_result"
    }
   ],
   "source": [
    "nlp.vocab['beyond'].is_stop"
   ]
  }
 ],
 "metadata": {
  "kernelspec": {
   "display_name": "Python 3 (ipykernel)",
   "language": "python",
   "name": "python3"
  },
  "language_info": {
   "codemirror_mode": {
    "name": "ipython",
    "version": 3
   },
   "file_extension": ".py",
   "mimetype": "text/x-python",
   "name": "python",
   "nbconvert_exporter": "python",
   "pygments_lexer": "ipython3",
   "version": "3.11.0"
  }
 },
 "nbformat": 4,
 "nbformat_minor": 4
}
